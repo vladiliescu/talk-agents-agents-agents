{
 "cells": [
  {
   "cell_type": "markdown",
   "metadata": {},
   "source": [
    "## Imports"
   ]
  },
  {
   "cell_type": "code",
   "execution_count": null,
   "metadata": {
    "slideshow": {
     "slide_type": "skip"
    },
    "tags": []
   },
   "outputs": [],
   "source": [
    "import requests\n",
    "import urllib.request\n",
    "from markdownify import markdownify as md\n",
    "from bs4 import BeautifulSoup\n",
    "from dotenv import dotenv_values\n",
    "from openai import AzureOpenAI\n",
    "import json\n",
    "\n",
    "config = dotenv_values()\n",
    "\n",
    "client = AzureOpenAI(\n",
    "    api_key=config[\"AZURE_OPENAI_API_KEY\"],\n",
    "    azure_endpoint=config[\"AZURE_OPENAI_API_BASE\"],\n",
    "    api_version=config[\"AZURE_OPENAI_API_VERSION\"]\n",
    ")\n",
    "openai_chatmodel = config[\"AZURE_OPENAI_CHAT_MODEL\"]\n",
    "\n",
    "GRAY = \"\\033[90m\"\n",
    "BOLD = \"\\033[1m\"\n",
    "RESET = \"\\033[0m\""
   ]
  },
  {
   "cell_type": "markdown",
   "metadata": {},
   "source": [
    "## Setup"
   ]
  },
  {
   "cell_type": "code",
   "execution_count": null,
   "metadata": {
    "slideshow": {
     "slide_type": "slide"
    },
    "tags": []
   },
   "outputs": [],
   "source": [
    "def get_search_results_for(query):   \n",
    "    encoded_query = urllib.parse.urlencode({'q': query})\n",
    "    url = f'https://html.duckduckgo.com/html?q={encoded_query}'\n",
    "\n",
    "    request = urllib.request.Request(url)\n",
    "    request.add_header('User-Agent', 'Mozilla/5.0 (Macintosh; Intel Mac OS X 10_15_6) AppleWebKit/537.36 (KHTML, like Gecko) Chrome/87.0.4280.88 Safari/537.36')\n",
    "\n",
    "    raw_response = urllib.request.urlopen(request).read()\n",
    "    html = raw_response.decode(\"utf-8\")\n",
    "\n",
    "    soup = BeautifulSoup(html, 'html.parser')\n",
    "    a_results = soup.select(\"a.result__a\")\n",
    "\n",
    "    links = []\n",
    "    for a_result in a_results:\n",
    "        # print(a_result)\n",
    "        url = a_result.attrs['href']\n",
    "        title = a_result.text\n",
    "        links.append({\"title\": title,  \"url\": url} )\n",
    "        \n",
    "    return links\n",
    "\n",
    "\n",
    "def load_page_content(url) -> str:\n",
    "    response = requests.get(url, headers={'User-Agent': 'Mozilla/5.0 (Macintosh; Intel Mac OS X 10_15_6) AppleWebKit/537.36 (KHTML, like Gecko) Chrome/87.0.4280.88 Safari/537.36'})\n",
    "    page_content = response.content.decode('utf-8')\n",
    "    page_content_md = md(page_content)\n",
    "    \n",
    "    return page_content_md\n",
    "\n",
    "def get_homepage(blogger: str) -> str:\n",
    "    # return \"https://vladiliescu.net\"\n",
    "    return get_search_results_for(f\"{blogger} homepage\")[0][\"url\"]\n",
    "\n"
   ]
  },
  {
   "cell_type": "code",
   "execution_count": null,
   "metadata": {
    "slideshow": {
     "slide_type": "slide"
    },
    "tags": []
   },
   "outputs": [],
   "source": [
    "query = \"Tell me what Vlad Iliescu's latest blog post is about\""
   ]
  },
  {
   "cell_type": "markdown",
   "metadata": {},
   "source": [
    "### Single LLM Call"
   ]
  },
  {
   "cell_type": "code",
   "execution_count": null,
   "metadata": {},
   "outputs": [],
   "source": [
    "completion = client.chat.completions.create(\n",
    "    model=openai_chatmodel,\n",
    "    messages=[{\"role\": \"user\", \"content\": query}],\n",
    "    temperature=0.0\n",
    ")\n",
    "\n",
    "print(completion.choices[0].message.content)"
   ]
  },
  {
   "cell_type": "markdown",
   "metadata": {},
   "source": [
    "### Tool Calling"
   ]
  },
  {
   "cell_type": "code",
   "execution_count": null,
   "metadata": {},
   "outputs": [],
   "source": [
    "tools = [{\n",
    "        \"type\": \"function\",\n",
    "        \"function\": {\n",
    "            \"name\": \"get_homepage\",\n",
    "            \"description\": \"Returns the homepage of a particular blogger.\",\n",
    "            \"parameters\": {\n",
    "                \"type\": \"object\",\n",
    "                \"properties\": {\n",
    "                    \"blogger\": {\n",
    "                        \"type\": \"string\",\n",
    "                        \"description\": \"Blogger name\"\n",
    "                    }\n",
    "                },\n",
    "                \"required\": [\n",
    "                    \"blogger\"\n",
    "                ],\n",
    "                \"additionalProperties\": False\n",
    "            },\n",
    "            \"strict\": True\n",
    "        }\n",
    "    },\n",
    "    {\n",
    "        \"type\": \"function\",\n",
    "        \"function\": {\n",
    "            \"name\": \"load_page_content\",\n",
    "            \"description\": \"Returns the content of a particular webpage.\",\n",
    "            \"parameters\": {\n",
    "                \"type\": \"object\",\n",
    "                \"properties\": {\n",
    "                    \"url\": {\n",
    "                        \"type\": \"string\",\n",
    "                        \"description\": \"Url of the webpage for which to retrieve the content\"\n",
    "                    }\n",
    "                },\n",
    "                \"required\": [\n",
    "                    \"url\"\n",
    "                ],\n",
    "                \"additionalProperties\": False\n",
    "            },\n",
    "            \"strict\": True\n",
    "        }\n",
    "    }\n",
    "]\n",
    "\n",
    "def call_function(name, args):\n",
    "    if name == \"get_homepage\":\n",
    "        return get_homepage(**args)\n",
    "    if name == \"load_page_content\":\n",
    "        return load_page_content(**args)    \n"
   ]
  },
  {
   "cell_type": "code",
   "execution_count": null,
   "metadata": {},
   "outputs": [],
   "source": [
    "\n",
    "messages = [{\"role\": \"user\", \"content\": query}]\n",
    "\n",
    "total_input_token_count = 0\n",
    "total_output_token_count = 0\n",
    "\n",
    "while (True):\n",
    "    completion = client.chat.completions.create(\n",
    "        model=openai_chatmodel,\n",
    "        messages=messages,\n",
    "        tools=tools\n",
    "    )\n",
    "\n",
    "    total_input_token_count += completion.usage.prompt_tokens\n",
    "    total_output_token_count += completion.usage.completion_tokens\n",
    "\n",
    "    if completion.choices[0].finish_reason == \"stop\":\n",
    "        print(f\"{BOLD}Final answer: {completion.choices[0].message.content}{RESET}\")\n",
    "        break\n",
    "    elif completion.choices[0].finish_reason == \"tool_calls\":\n",
    "        messages.append(completion.choices[0].message)\n",
    "        for tool_call in completion.choices[0].message.tool_calls:\n",
    "            name = tool_call.function.name\n",
    "            args = json.loads(tool_call.function.arguments)\n",
    "\n",
    "            result = call_function(name, args)\n",
    "            print(f\"Called {BOLD}{name}({args}){RESET} and it returned {GRAY}{result[:300]}{RESET}\")\n",
    "\n",
    "            messages.append({\n",
    "                \"role\": \"tool\",\n",
    "                \"tool_call_id\": tool_call.id,\n",
    "                \"content\": result\n",
    "            })\n",
    "    else:\n",
    "        raise Exception(\"We're not supposed to be here\")"
   ]
  },
  {
   "cell_type": "code",
   "execution_count": null,
   "metadata": {},
   "outputs": [],
   "source": [
    "# GPT-4o-2024-1120 Pricing (Sweden Central)\n",
    "\n",
    "input_cost=2.90308/1_000_000\n",
    "output_cost=11.6123/1_000_000\n",
    "\n",
    "total_cost = total_input_token_count * input_cost + \\\n",
    "            total_output_token_count * output_cost\n",
    "\n",
    "\n",
    "print(f\"Cost: €{total_cost:.4f} (Input Tokens: {total_input_token_count:,}, Output Tokens: {total_output_token_count:,})\")"
   ]
  }
 ],
 "metadata": {
  "kernelspec": {
   "display_name": "agents_agents",
   "language": "python",
   "name": "python3"
  },
  "language_info": {
   "codemirror_mode": {
    "name": "ipython",
    "version": 3
   },
   "file_extension": ".py",
   "mimetype": "text/x-python",
   "name": "python",
   "nbconvert_exporter": "python",
   "pygments_lexer": "ipython3",
   "version": "3.11.11"
  }
 },
 "nbformat": 4,
 "nbformat_minor": 4
}
