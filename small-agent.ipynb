{
 "cells": [
  {
   "cell_type": "markdown",
   "metadata": {},
   "source": [
    "## Imports"
   ]
  },
  {
   "cell_type": "code",
   "execution_count": null,
   "metadata": {
    "slideshow": {
     "slide_type": "skip"
    },
    "tags": []
   },
   "outputs": [],
   "source": [
    "from dotenv import dotenv_values\n",
    "from smolagents import CodeAgent, DuckDuckGoSearchTool, VisitWebpageTool\n",
    "from smolagents.models import AzureOpenAIServerModel"
   ]
  },
  {
   "cell_type": "markdown",
   "metadata": {},
   "source": [
    "## An information seeking Agent\n",
    "\n",
    "Uses AzureOpenAIServerModel, available starting with smolagents v1.5.0"
   ]
  },
  {
   "cell_type": "code",
   "execution_count": null,
   "metadata": {},
   "outputs": [],
   "source": [
    "config = dotenv_values()\n",
    "\n",
    "model = AzureOpenAIServerModel(\n",
    "    model_id=config[\"AZURE_OPENAI_CHAT_MODEL\"],\n",
    "    api_key=config[\"AZURE_OPENAI_API_KEY\"],\n",
    "    api_version=config[\"AZURE_OPENAI_API_VERSION\"],\n",
    "    azure_endpoint=config[\"AZURE_OPENAI_API_BASE\"],\n",
    ")\n",
    "\n",
    "agent = CodeAgent(tools=[DuckDuckGoSearchTool(), VisitWebpageTool()], model=model, max_steps=10)\n",
    "\n",
    "agent.run(\"Tell me what Vlad Iliescu's latest blog post is about\")\n"
   ]
  },
  {
   "cell_type": "code",
   "execution_count": null,
   "metadata": {},
   "outputs": [],
   "source": [
    "# GPT-4o-2024-1120 Pricing (Sweden Central)\n",
    "\n",
    "input_cost=2.90308/1_000_000\n",
    "output_cost=11.6123/1_000_000\n",
    "\n",
    "total_cost = agent.monitor.total_input_token_count * input_cost + \\\n",
    "            agent.monitor.total_output_token_count * output_cost\n",
    "\n",
    "\n",
    "print(f\"Cost: €{total_cost:.4f} (Input Tokens: {agent.monitor.total_input_token_count}, Output Tokens: {agent.monitor.total_output_token_count})\")"
   ]
  },
  {
   "cell_type": "markdown",
   "metadata": {},
   "source": [
    "## Summarize Vlad's latest blog post"
   ]
  },
  {
   "cell_type": "code",
   "execution_count": null,
   "metadata": {},
   "outputs": [],
   "source": [
    "agent.run(\"Summarize Vlad Iliescu's latest blog post\")"
   ]
  },
  {
   "cell_type": "code",
   "execution_count": null,
   "metadata": {},
   "outputs": [],
   "source": [
    "total_cost = agent.monitor.total_input_token_count * input_cost + \\\n",
    "            agent.monitor.total_output_token_count * output_cost\n",
    "\n",
    "\n",
    "print(f\"Cost: €{total_cost:.4f}\")"
   ]
  },
  {
   "cell_type": "markdown",
   "metadata": {},
   "source": [
    "## Woodchucking"
   ]
  },
  {
   "cell_type": "code",
   "execution_count": null,
   "metadata": {},
   "outputs": [],
   "source": [
    "agent.run(\"How much wood would a woodchuck chuck if a woodchuck could chuck wood?\")"
   ]
  }
 ],
 "metadata": {
  "kernelspec": {
   "display_name": "agents_agents",
   "language": "python",
   "name": "python3"
  },
  "language_info": {
   "codemirror_mode": {
    "name": "ipython",
    "version": 3
   },
   "file_extension": ".py",
   "mimetype": "text/x-python",
   "name": "python",
   "nbconvert_exporter": "python",
   "pygments_lexer": "ipython3",
   "version": "3.11.11"
  }
 },
 "nbformat": 4,
 "nbformat_minor": 4
}
